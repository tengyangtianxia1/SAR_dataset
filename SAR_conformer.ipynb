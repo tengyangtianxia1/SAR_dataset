{
 "cells": [
  {
   "cell_type": "code",
   "execution_count": 1,
   "metadata": {
    "colab": {
     "base_uri": "https://localhost:8080/"
    },
    "id": "z6uYCChZ9fJL",
    "outputId": "2c70ccf9-1b83-493a-cf53-5dc39f3de78d"
   },
   "outputs": [
    {
     "name": "stdout",
     "output_type": "stream",
     "text": [
      "Fri Apr 22 10:22:55 2022       \n",
      "+-----------------------------------------------------------------------------+\n",
      "| NVIDIA-SMI 511.65       Driver Version: 511.65       CUDA Version: 11.6     |\n",
      "|-------------------------------+----------------------+----------------------+\n",
      "| GPU  Name            TCC/WDDM | Bus-Id        Disp.A | Volatile Uncorr. ECC |\n",
      "| Fan  Temp  Perf  Pwr:Usage/Cap|         Memory-Usage | GPU-Util  Compute M. |\n",
      "|                               |                      |               MIG M. |\n",
      "|===============================+======================+======================|\n",
      "|   0  NVIDIA GeForce ... WDDM  | 00000000:01:00.0 Off |                  N/A |\n",
      "| N/A   50C    P8     8W /  N/A |      0MiB /  6144MiB |      0%      Default |\n",
      "|                               |                      |                  N/A |\n",
      "+-------------------------------+----------------------+----------------------+\n",
      "                                                                               \n",
      "+-----------------------------------------------------------------------------+\n",
      "| Processes:                                                                  |\n",
      "|  GPU   GI   CI        PID   Type   Process name                  GPU Memory |\n",
      "|        ID   ID                                                   Usage      |\n",
      "|=============================================================================|\n",
      "|  No running processes found                                                 |\n",
      "+-----------------------------------------------------------------------------+\n"
     ]
    }
   ],
   "source": [
    "!nvidia-smi"
   ]
  },
  {
   "cell_type": "code",
   "execution_count": null,
   "metadata": {
    "colab": {
     "base_uri": "https://localhost:8080/"
    },
    "id": "rxqK8bQx9ysf",
    "outputId": "fc3e9856-60ef-4cd6-af56-8428d5f06e07"
   },
   "outputs": [
    {
     "name": "stdout",
     "output_type": "stream",
     "text": [
      "Cloning into 'SAR_dataset'...\n",
      "remote: Enumerating objects: 9489, done.\u001b[K\n",
      "remote: Counting objects: 100% (7/7), done.\u001b[K\n",
      "remote: Compressing objects: 100% (5/5), done.\u001b[K\n",
      "remote: Total 9489 (delta 2), reused 5 (delta 1), pack-reused 9482\u001b[K\n",
      "Receiving objects: 100% (9489/9489), 650.37 MiB | 26.07 MiB/s, done.\n",
      "Resolving deltas: 100% (2/2), done.\n",
      "Checking out files: 100% (9465/9465), done.\n"
     ]
    }
   ],
   "source": [
    "!git clone https://github.com/tengyangtianxia1/SAR_dataset.git\n",
    "!mv ./SAR_dataset/conformer.py ./"
   ]
  },
  {
   "cell_type": "code",
   "execution_count": null,
   "metadata": {
    "colab": {
     "base_uri": "https://localhost:8080/"
    },
    "id": "2FxnWiYRM0PG",
    "outputId": "6e9fd350-ff28-4b4d-8228-3e0eb0a84dfc"
   },
   "outputs": [
    {
     "name": "stdout",
     "output_type": "stream",
     "text": [
      "conformer.py  __pycache__  sample_data\tSAR_dataset\n"
     ]
    }
   ],
   "source": [
    "!ls"
   ]
  },
  {
   "cell_type": "code",
   "execution_count": null,
   "metadata": {
    "colab": {
     "base_uri": "https://localhost:8080/"
    },
    "id": "KsAUXQ0S_Gad",
    "outputId": "745ee443-6eda-4a2d-a1de-89146759b61e"
   },
   "outputs": [
    {
     "name": "stdout",
     "output_type": "stream",
     "text": [
      "Collecting timm\n",
      "  Downloading timm-0.5.4-py3-none-any.whl (431 kB)\n",
      "\u001b[?25l\r",
      "\u001b[K     |▊                               | 10 kB 15.7 MB/s eta 0:00:01\r",
      "\u001b[K     |█▌                              | 20 kB 10.8 MB/s eta 0:00:01\r",
      "\u001b[K     |██▎                             | 30 kB 9.1 MB/s eta 0:00:01\r",
      "\u001b[K     |███                             | 40 kB 8.3 MB/s eta 0:00:01\r",
      "\u001b[K     |███▉                            | 51 kB 4.6 MB/s eta 0:00:01\r",
      "\u001b[K     |████▋                           | 61 kB 5.4 MB/s eta 0:00:01\r",
      "\u001b[K     |█████▎                          | 71 kB 5.6 MB/s eta 0:00:01\r",
      "\u001b[K     |██████                          | 81 kB 5.6 MB/s eta 0:00:01\r",
      "\u001b[K     |██████▉                         | 92 kB 6.2 MB/s eta 0:00:01\r",
      "\u001b[K     |███████▋                        | 102 kB 5.3 MB/s eta 0:00:01\r",
      "\u001b[K     |████████▍                       | 112 kB 5.3 MB/s eta 0:00:01\r",
      "\u001b[K     |█████████▏                      | 122 kB 5.3 MB/s eta 0:00:01\r",
      "\u001b[K     |█████████▉                      | 133 kB 5.3 MB/s eta 0:00:01\r",
      "\u001b[K     |██████████▋                     | 143 kB 5.3 MB/s eta 0:00:01\r",
      "\u001b[K     |███████████▍                    | 153 kB 5.3 MB/s eta 0:00:01\r",
      "\u001b[K     |████████████▏                   | 163 kB 5.3 MB/s eta 0:00:01\r",
      "\u001b[K     |█████████████                   | 174 kB 5.3 MB/s eta 0:00:01\r",
      "\u001b[K     |█████████████▊                  | 184 kB 5.3 MB/s eta 0:00:01\r",
      "\u001b[K     |██████████████▍                 | 194 kB 5.3 MB/s eta 0:00:01\r",
      "\u001b[K     |███████████████▏                | 204 kB 5.3 MB/s eta 0:00:01\r",
      "\u001b[K     |████████████████                | 215 kB 5.3 MB/s eta 0:00:01\r",
      "\u001b[K     |████████████████▊               | 225 kB 5.3 MB/s eta 0:00:01\r",
      "\u001b[K     |█████████████████▌              | 235 kB 5.3 MB/s eta 0:00:01\r",
      "\u001b[K     |██████████████████▎             | 245 kB 5.3 MB/s eta 0:00:01\r",
      "\u001b[K     |███████████████████             | 256 kB 5.3 MB/s eta 0:00:01\r",
      "\u001b[K     |███████████████████▊            | 266 kB 5.3 MB/s eta 0:00:01\r",
      "\u001b[K     |████████████████████▌           | 276 kB 5.3 MB/s eta 0:00:01\r",
      "\u001b[K     |█████████████████████▎          | 286 kB 5.3 MB/s eta 0:00:01\r",
      "\u001b[K     |██████████████████████          | 296 kB 5.3 MB/s eta 0:00:01\r",
      "\u001b[K     |██████████████████████▉         | 307 kB 5.3 MB/s eta 0:00:01\r",
      "\u001b[K     |███████████████████████▌        | 317 kB 5.3 MB/s eta 0:00:01\r",
      "\u001b[K     |████████████████████████▎       | 327 kB 5.3 MB/s eta 0:00:01\r",
      "\u001b[K     |█████████████████████████       | 337 kB 5.3 MB/s eta 0:00:01\r",
      "\u001b[K     |█████████████████████████▉      | 348 kB 5.3 MB/s eta 0:00:01\r",
      "\u001b[K     |██████████████████████████▋     | 358 kB 5.3 MB/s eta 0:00:01\r",
      "\u001b[K     |███████████████████████████▍    | 368 kB 5.3 MB/s eta 0:00:01\r",
      "\u001b[K     |████████████████████████████    | 378 kB 5.3 MB/s eta 0:00:01\r",
      "\u001b[K     |████████████████████████████▉   | 389 kB 5.3 MB/s eta 0:00:01\r",
      "\u001b[K     |█████████████████████████████▋  | 399 kB 5.3 MB/s eta 0:00:01\r",
      "\u001b[K     |██████████████████████████████▍ | 409 kB 5.3 MB/s eta 0:00:01\r",
      "\u001b[K     |███████████████████████████████▏| 419 kB 5.3 MB/s eta 0:00:01\r",
      "\u001b[K     |████████████████████████████████| 430 kB 5.3 MB/s eta 0:00:01\r",
      "\u001b[K     |████████████████████████████████| 431 kB 5.3 MB/s \n",
      "\u001b[?25hRequirement already satisfied: torch>=1.4 in /usr/local/lib/python3.7/dist-packages (from timm) (1.10.0+cu111)\n",
      "Requirement already satisfied: torchvision in /usr/local/lib/python3.7/dist-packages (from timm) (0.11.1+cu111)\n",
      "Requirement already satisfied: typing-extensions in /usr/local/lib/python3.7/dist-packages (from torch>=1.4->timm) (4.1.1)\n",
      "Requirement already satisfied: numpy in /usr/local/lib/python3.7/dist-packages (from torchvision->timm) (1.21.6)\n",
      "Requirement already satisfied: pillow!=8.3.0,>=5.3.0 in /usr/local/lib/python3.7/dist-packages (from torchvision->timm) (7.1.2)\n",
      "Installing collected packages: timm\n",
      "Successfully installed timm-0.5.4\n"
     ]
    }
   ],
   "source": [
    "!pip install timm"
   ]
  },
  {
   "cell_type": "code",
   "execution_count": 9,
   "metadata": {
    "id": "gBjeBolY98SP"
   },
   "outputs": [],
   "source": [
    "import torch\n",
    "from torchvision.datasets import ImageFolder\n",
    "import torchvision\n",
    "from torchvision import transforms\n",
    "import numpy as np\n",
    "import matplotlib.pyplot as plt\n",
    "import timm\n",
    "from torch import nn\n",
    "from tqdm import tqdm\n",
    "from torchvision.ops import sigmoid_focal_loss\n",
    "from conformer import Conformer\n",
    "from torch.utils.data import DataLoader\n",
    "from torch.optim import AdamW\n",
    "%matplotlib inline"
   ]
  },
  {
   "cell_type": "code",
   "execution_count": 3,
   "metadata": {
    "id": "TRMuAxT1_C7M"
   },
   "outputs": [],
   "source": [
    "def get_dataloader(train_batch_size, test_batch_size, num_workers, m_transform):\n",
    "    train_dataset = ImageFolder('./SAR_dataset/train/',m_transform)\n",
    "    test_dataset = ImageFolder('./SAR_dataset/test/',simple_transform)\n",
    "    Gtest_dataset = ImageFolder('./SAR_dataset/Gtest/',simple_transform)\n",
    "    Itest_dataset = ImageFolder('./SAR_dataset/Itest/',simple_transform)\n",
    "    train_loader = DataLoader(train_dataset, batch_size = train_batch_size, shuffle = True, num_workers = num_workers, pin_memory = True)\n",
    "    test_loader = DataLoader(test_dataset, batch_size = test_batch_size, shuffle = False, num_workers = num_workers, pin_memory = True)\n",
    "    Gtest_loader = DataLoader(Gtest_dataset, batch_size = test_batch_size, shuffle = False, num_workers = num_workers, pin_memory = True)\n",
    "    Itest_loader = DataLoader(Itest_dataset, batch_size = test_batch_size, shuffle = False, num_workers = num_workers, pin_memory = True)\n",
    "    return train_loader, test_loader, Gtest_loader, Itest_loader\n",
    "\n",
    "\n",
    "# simple_transform = transforms.Compose([transforms.Grayscale(1),#灰度\n",
    "#                     transforms.ToTensor(),\n",
    "#                     transforms.Normalize([0.1098],[0.1023])]\n",
    "#                     )\n",
    "# Itest_transform  = transforms.Compose([transforms.Grayscale(1),#灰度\n",
    "#                     transforms.ToTensor(),\n",
    "#                     transforms.Normalize([0.0992],[0.1313])]\n",
    "#                     )\n",
    "# train_dataset = ImageFolder('./SAR_dataset/train/',simple_transform)\n",
    "# test_dataset = ImageFolder('./SAR_dataset/test/',simple_transform)\n",
    "# Gtest_dataset = ImageFolder('./SAR_dataset/Gtest/',simple_transform)\n",
    "# Itest_dataset = ImageFolder('./SAR_dataset/Itest/',simple_transform)"
   ]
  },
  {
   "cell_type": "code",
   "execution_count": 4,
   "metadata": {
    "id": "zzcqMmuh_8t7"
   },
   "outputs": [],
   "source": [
    "def Conformer_tiny_patch16(pretrained=False, **kwargs):\n",
    "    model = Conformer(patch_size=16, channel_ratio=1, embed_dim=384, depth=12,\n",
    "                      num_heads=3, mlp_ratio=4, qkv_bias=True, **kwargs)\n",
    "    if pretrained:\n",
    "        raise NotImplementedError\n",
    "    return model"
   ]
  },
  {
   "cell_type": "code",
   "execution_count": 5,
   "metadata": {},
   "outputs": [],
   "source": [
    "import math\n",
    "\n",
    "import torch\n",
    "from torch.optim import Optimizer\n",
    "from torch.optim.lr_scheduler import LambdaLR\n",
    "\n",
    "\n",
    "def get_cosine_schedule_with_warmup(\n",
    "\toptimizer: Optimizer,\n",
    "\tnum_warmup_steps: int,\n",
    "\tnum_training_steps: int,\n",
    "\tnum_cycles: float = 0.5,\n",
    "\tlast_epoch: int = -1,\n",
    "):\n",
    "\t\"\"\"\n",
    "\tCreate a schedule with a learning rate that decreases following the values of the cosine function between the\n",
    "\tinitial lr set in the optimizer to 0, after a warmup period during which it increases linearly between 0 and the\n",
    "\tinitial lr set in the optimizer.\n",
    "\n",
    "\tArgs:\n",
    "\t\toptimizer (:class:`~torch.optim.Optimizer`):\n",
    "\t\tThe optimizer for which to schedule the learning rate.\n",
    "\t\tnum_warmup_steps (:obj:`int`):\n",
    "\t\tThe number of steps for the warmup phase.\n",
    "\t\tnum_training_steps (:obj:`int`):\n",
    "\t\tThe total number of training steps.\n",
    "\t\tnum_cycles (:obj:`float`, `optional`, defaults to 0.5):\n",
    "\t\tThe number of waves in the cosine schedule (the defaults is to just decrease from the max value to 0\n",
    "\t\tfollowing a half-cosine).\n",
    "\t\tlast_epoch (:obj:`int`, `optional`, defaults to -1):\n",
    "\t\tThe index of the last epoch when resuming training.\n",
    "\n",
    "\tReturn:\n",
    "\t\t:obj:`torch.optim.lr_scheduler.LambdaLR` with the appropriate schedule.\n",
    "\t\"\"\"\n",
    "\tdef lr_lambda(current_step):\n",
    "\t\t# Warmup\n",
    "\t\tif current_step < num_warmup_steps:\n",
    "\t\t\treturn float(current_step) / float(max(1, num_warmup_steps))\n",
    "\t\t# decadence\n",
    "\t\tprogress = float(current_step - num_warmup_steps) / float(\n",
    "\t\t\tmax(1, num_training_steps - num_warmup_steps)\n",
    "\t\t)\n",
    "\t\treturn max(\n",
    "\t\t\t0.0, 0.5 * (1.0 + math.cos(math.pi * float(num_cycles) * 2.0 * progress))\n",
    "\t\t)\n",
    "\n",
    "\treturn LambdaLR(optimizer, lr_lambda, last_epoch)"
   ]
  },
  {
   "cell_type": "code",
   "execution_count": null,
   "metadata": {
    "colab": {
     "base_uri": "https://localhost:8080/"
    },
    "id": "oDbOLYh0AIhh",
    "outputId": "b023e760-c3f7-4e02-c359-b2b27d6ef9f7"
   },
   "outputs": [
    {
     "name": "stderr",
     "output_type": "stream",
     "text": [
      "/usr/local/lib/python3.7/dist-packages/torch/utils/data/dataloader.py:481: UserWarning: This DataLoader will create 4 worker processes in total. Our suggested max number of worker in current system is 2, which is smaller than what this DataLoader is going to create. Please be aware that excessive worker creation might get DataLoader running slow or even freeze, lower the worker number to avoid potential slowness/freeze if necessary.\n",
      "  cpuset_checked))\n"
     ]
    }
   ],
   "source": [
    "lr = 1e-3\n",
    "num_epoch = 15\n",
    "train_batch_size= 32\n",
    "test_batch_size = 16\n",
    "train_loader = torch.utils.data.DataLoader(train_dataset, batch_size = train_batch_size, num_workers = 4, pin_memory = True, shuffle = True)\n",
    "test_loader = torch.utils.data.DataLoader(test_dataset, batch_size = test_batch_size, num_workers = 4, pin_memory = True, shuffle = False)\n",
    "Gtest_loader = torch.utils.data.DataLoader(Gtest_dataset, batch_size = test_batch_size, num_workers = 4, pin_memory = True, shuffle = False)\n",
    "Itest_loader = torch.utils.data.DataLoader(Itest_dataset, batch_size = test_batch_size, num_workers = 4, pin_memory = True, shuffle = False)"
   ]
  },
  {
   "cell_type": "code",
   "execution_count": 6,
   "metadata": {
    "id": "Lt7dvSKbdKGx"
   },
   "outputs": [],
   "source": [
    "def compute_loss(o, target, num_classes):\n",
    "    target = target.unsqueeze(1)\n",
    "    target = torch.zeros(target.shape[0],num_classes).cuda().scatter_(1,target,1)\n",
    "    loss = sigmoid_focal_loss(o, target, reduction='mean')\n",
    "    return loss\n"
   ]
  },
  {
   "cell_type": "code",
   "execution_count": 7,
   "metadata": {},
   "outputs": [],
   "source": [
    "def model_fn(batch, model, device):\n",
    "    inputs, labels = batch\n",
    "    inputs = inputs.to(device)\n",
    "    labels = labels.to(device)\n",
    "    outputs = model(inputs)\n",
    "    if isinstance(outputs, list):\n",
    "        loss_list = [compute_loss(o, labels, 2) / len(outputs) for o in outputs]\n",
    "        loss = sum(loss_list)\n",
    "    else:\n",
    "        loss = compute_loss(outputs, labels, 2)\n",
    "    if isinstance(outputs, list):\n",
    "        out = sum(outputs)\n",
    "    else:\n",
    "        out = outputs\n",
    "    preds = out.argmax(1)\n",
    "    accuracy = torch.mean((preds == labels).float())\n",
    "    return loss, accuracy\n",
    "    \n",
    "    "
   ]
  },
  {
   "cell_type": "code",
   "execution_count": 8,
   "metadata": {},
   "outputs": [],
   "source": [
    "def model_test(data_loader, model, device, desc):\n",
    "    \n",
    "    model.eval()\n",
    "    running_loss = 0.0\n",
    "    running_accuracy = 0.0\n",
    "    pbar = tqdm(total=len(data_loader.dataset), ncols=0, desc=desc, unit = 'uttr')\n",
    "    \n",
    "    for i, batch in enumerate(data_loader):\n",
    "        with torch.no_grad():\n",
    "            loss, accuracy = model_fn(batch, model, device)\n",
    "            running_loss += loss.item()\n",
    "            running_accuracy += accuracy.item()\n",
    "        \n",
    "        pbar.update(data_loader.batch_size)\n",
    "        pbar.set_postfix(loss=f'{running_loss/(i+1):.2f}',\n",
    "                        accuracy=f'{running_accuracy / (i+1):.2f}',\n",
    "                    )\n",
    "    pbar.close()\n",
    "    model.train()\n",
    "    return running_accuracy / len(data_loader)\n",
    "    "
   ]
  },
  {
   "cell_type": "code",
   "execution_count": null,
   "metadata": {},
   "outputs": [],
   "source": [
    "simple_transform = transforms.Compose([transforms.Grayscale(1),#灰度\n",
    "                    transforms.ToTensor(),\n",
    "                    transforms.Normalize([0.1098],[0.1023])]\n",
    "                    )\n",
    "def parse_args():\n",
    "    \"\"\"arguments\"\"\"\n",
    "    config = {\n",
    "        \"train_batch_size\": 32,\n",
    "        \"test_batch_size\":16,\n",
    "        \"num_workers\": 8,\n",
    "        \"test_steps\": 2000,\n",
    "        \"warmup_steps\": 1000,\n",
    "        \"save_steps\": 10000,\n",
    "        \"total_steps\": 100000,\n",
    "        \"m_transform\":simple_transform\n",
    "    }\n",
    "\n",
    "    return config\n",
    "\n",
    "\n",
    "def main(train_batch_size,\n",
    "         test_batch_size,\n",
    "         num_workers,\n",
    "         test_steps,\n",
    "         warmup_steps,\n",
    "         total_steps,\n",
    "         save_steps,\n",
    "         m_transform\n",
    "):\n",
    "    device = torch.device(\"cuda\" if torch.cuda.is_available() else \"cpu\")\n",
    "    print(f\"[Info]: Use {device} now!\")\n",
    "    train_loader, test_loader, Gtest_loader, Itest_loader = get_dataloader(train_batch_size,test_batch_size,num_workers,m_transform)\n",
    "    train_iterator = iter(train_loader)\n",
    "    print(f\"[Info]: Finish loading data!\",flush = True)\n",
    "    \n",
    "    model = Conformer_tiny_patch16(in_chans=1, num_classes=2).to(device)\n",
    "    optimizer = AdamW(model.parameters(), lr=1e-3)\n",
    "    scheduler = get_cosine_schedule_with_warmup(optimizer, warmup_steps, total_steps)\n",
    "    print(f\"[Info]: Finish creating model!\",flush = True)\n",
    "\n",
    "    best_accuracy = -1.0\n",
    "    best_state_dict = None\n",
    "    \n",
    "    pbar = tqdm(total=valid_steps, ncols=0, desc=\"Train\", unit=\" step\")\n",
    "    \n",
    "    for step in range(total_steps):\n",
    "        try:\n",
    "            batch = next(train_iterator)\n",
    "        except StopIteration:\n",
    "            train_iterator = iter(train_loader)\n",
    "            batch = next(train_iterator)\n",
    "        loss, accuracy = model_fn(batch, model, device)\n",
    "        batch_loss = loss.item()\n",
    "        batch_accuracy = accuracy.item()\n",
    "        \n",
    "        # Updata model\n",
    "        loss.backward()\n",
    "        optimizer.step()\n",
    "        scheduler.step()\n",
    "        optimizer.zero_grad()\n",
    "\n",
    "# Log\n",
    "        pbar.update()\n",
    "        pbar.set_postfix(\n",
    "\t\t\tloss=f\"{batch_loss:.2f}\",\n",
    "\t\t\taccuracy=f\"{batch_accuracy:.2f}\",\n",
    "\t\t\tstep=step + 1,\n",
    "\t\t)\n",
    "\n",
    "\n",
    "    "
   ]
  },
  {
   "cell_type": "code",
   "execution_count": null,
   "metadata": {
    "colab": {
     "base_uri": "https://localhost:8080/"
    },
    "id": "LmsOTfOXAMSW",
    "outputId": "520f7226-2979-4e09-b54e-736c3061e7d9"
   },
   "outputs": [
    {
     "name": "stdout",
     "output_type": "stream",
     "text": [
      "Starting epoch  1\n"
     ]
    },
    {
     "name": "stderr",
     "output_type": "stream",
     "text": [
      "\r",
      "  0%|          | 0/191 [00:00<?, ?it/s]/usr/local/lib/python3.7/dist-packages/torch/utils/data/dataloader.py:481: UserWarning: This DataLoader will create 4 worker processes in total. Our suggested max number of worker in current system is 2, which is smaller than what this DataLoader is going to create. Please be aware that excessive worker creation might get DataLoader running slow or even freeze, lower the worker number to avoid potential slowness/freeze if necessary.\n",
      "  cpuset_checked))\n",
      "100%|██████████| 191/191 [03:45<00:00,  1.18s/it]\n"
     ]
    },
    {
     "name": "stdout",
     "output_type": "stream",
     "text": [
      "第 1 个epoch的学习率为： 0.001\n",
      "[ Train  1 / 15  ] loss =  0.06124877982348672\n",
      "[ Train  1 / 15  ] accuracy =  0.7536696189361093\n"
     ]
    },
    {
     "name": "stderr",
     "output_type": "stream",
     "text": [
      "100%|██████████| 75/75 [00:16<00:00,  4.49it/s]\n",
      "100%|██████████| 19/19 [00:04<00:00,  4.24it/s]\n",
      "100%|██████████| 51/51 [00:11<00:00,  4.48it/s]\n"
     ]
    },
    {
     "name": "stdout",
     "output_type": "stream",
     "text": [
      "[ Test  1 / 15  ] loss =  0.05812224179506302\n",
      "[ Test  1 / 15  ] accuracy =  0.7516666666666667\n",
      "[ GTest  1 / 15  ] loss =  0.060164677371319975\n",
      "[ GTest  1 / 15  ] accuracy =  0.7368421052631579\n",
      "[ ITest  1 / 15  ] loss =  0.040412716530993875\n",
      "[ ITest  1 / 15  ] accuracy =  0.9068627450980392\n",
      "Starting epoch  2\n"
     ]
    },
    {
     "name": "stderr",
     "output_type": "stream",
     "text": [
      "100%|██████████| 191/191 [03:44<00:00,  1.17s/it]\n"
     ]
    },
    {
     "name": "stdout",
     "output_type": "stream",
     "text": [
      "第 2 个epoch的学习率为： 0.0009890738003669028\n",
      "[ Train  2 / 15  ] loss =  0.053348963875421054\n",
      "[ Train  2 / 15  ] accuracy =  0.7855740691978894\n"
     ]
    },
    {
     "name": "stderr",
     "output_type": "stream",
     "text": [
      "100%|██████████| 75/75 [00:16<00:00,  4.49it/s]\n",
      "100%|██████████| 19/19 [00:04<00:00,  4.18it/s]\n",
      "100%|██████████| 51/51 [00:11<00:00,  4.45it/s]\n"
     ]
    },
    {
     "name": "stdout",
     "output_type": "stream",
     "text": [
      "[ Test  2 / 15  ] loss =  0.05776485552390417\n",
      "[ Test  2 / 15  ] accuracy =  0.77\n",
      "[ GTest  2 / 15  ] loss =  0.05931711216506205\n",
      "[ GTest  2 / 15  ] accuracy =  0.7368421052631579\n",
      "[ ITest  2 / 15  ] loss =  0.04238077443020016\n",
      "[ ITest  2 / 15  ] accuracy =  0.9068627450980392\n",
      "Starting epoch  3\n"
     ]
    },
    {
     "name": "stderr",
     "output_type": "stream",
     "text": [
      "100%|██████████| 191/191 [03:43<00:00,  1.17s/it]\n"
     ]
    },
    {
     "name": "stdout",
     "output_type": "stream",
     "text": [
      "第 3 个epoch的学习率为： 0.0009567727288213003\n",
      "[ Train  3 / 15  ] loss =  0.05106743737197047\n",
      "[ Train  3 / 15  ] accuracy =  0.8147905759162304\n"
     ]
    },
    {
     "name": "stderr",
     "output_type": "stream",
     "text": [
      "100%|██████████| 75/75 [00:16<00:00,  4.49it/s]\n",
      "100%|██████████| 19/19 [00:04<00:00,  4.18it/s]\n",
      "100%|██████████| 51/51 [00:11<00:00,  4.45it/s]\n"
     ]
    },
    {
     "name": "stdout",
     "output_type": "stream",
     "text": [
      "[ Test  3 / 15  ] loss =  0.05126359201967716\n",
      "[ Test  3 / 15  ] accuracy =  0.8408333333333333\n",
      "[ GTest  3 / 15  ] loss =  0.05869020874563016\n",
      "[ GTest  3 / 15  ] accuracy =  0.7510964744969418\n",
      "[ ITest  3 / 15  ] loss =  0.05311184643092109\n",
      "[ ITest  3 / 15  ] accuracy =  0.8458333482929304\n",
      "Starting epoch  4\n"
     ]
    },
    {
     "name": "stderr",
     "output_type": "stream",
     "text": [
      "100%|██████████| 191/191 [03:43<00:00,  1.17s/it]\n"
     ]
    },
    {
     "name": "stdout",
     "output_type": "stream",
     "text": [
      "第 4 个epoch的学习率为： 0.0009045084971874737\n",
      "[ Train  4 / 15  ] loss =  0.04892179549364519\n",
      "[ Train  4 / 15  ] accuracy =  0.8328346931497465\n"
     ]
    },
    {
     "name": "stderr",
     "output_type": "stream",
     "text": [
      "100%|██████████| 75/75 [00:16<00:00,  4.50it/s]\n",
      "100%|██████████| 19/19 [00:04<00:00,  4.21it/s]\n",
      "100%|██████████| 51/51 [00:11<00:00,  4.48it/s]\n"
     ]
    },
    {
     "name": "stdout",
     "output_type": "stream",
     "text": [
      "[ Test  4 / 15  ] loss =  0.04916189762453238\n",
      "[ Test  4 / 15  ] accuracy =  0.8525\n",
      "[ GTest  4 / 15  ] loss =  0.055724825121854484\n",
      "[ GTest  4 / 15  ] accuracy =  0.7478070008127313\n",
      "[ ITest  4 / 15  ] loss =  0.0453220556544907\n",
      "[ ITest  4 / 15  ] accuracy =  0.8737745098039216\n",
      "Starting epoch  5\n"
     ]
    },
    {
     "name": "stderr",
     "output_type": "stream",
     "text": [
      "100%|██████████| 191/191 [03:43<00:00,  1.17s/it]\n"
     ]
    },
    {
     "name": "stdout",
     "output_type": "stream",
     "text": [
      "第 5 个epoch的学习率为： 0.0008345653031794292\n",
      "[ Train  5 / 15  ] loss =  0.04667139054319933\n",
      "[ Train  5 / 15  ] accuracy =  0.8574701279245746\n"
     ]
    },
    {
     "name": "stderr",
     "output_type": "stream",
     "text": [
      "100%|██████████| 75/75 [00:16<00:00,  4.49it/s]\n",
      "100%|██████████| 19/19 [00:04<00:00,  4.21it/s]\n",
      "100%|██████████| 51/51 [00:11<00:00,  4.50it/s]\n"
     ]
    },
    {
     "name": "stdout",
     "output_type": "stream",
     "text": [
      "[ Test  5 / 15  ] loss =  0.05806158563743035\n",
      "[ Test  5 / 15  ] accuracy =  0.7958333333333333\n",
      "[ GTest  5 / 15  ] loss =  0.058944103259005044\n",
      "[ GTest  5 / 15  ] accuracy =  0.777412263970626\n",
      "[ ITest  5 / 15  ] loss =  0.040688884499318456\n",
      "[ ITest  5 / 15  ] accuracy =  0.8958333333333334\n",
      "Starting epoch  6\n"
     ]
    },
    {
     "name": "stderr",
     "output_type": "stream",
     "text": [
      "100%|██████████| 191/191 [03:43<00:00,  1.17s/it]\n"
     ]
    },
    {
     "name": "stdout",
     "output_type": "stream",
     "text": [
      "第 6 个epoch的学习率为： 0.00075\n",
      "[ Train  6 / 15  ] loss =  0.044383337428666535\n",
      "[ Train  6 / 15  ] accuracy =  0.8686424375204516\n"
     ]
    },
    {
     "name": "stderr",
     "output_type": "stream",
     "text": [
      "100%|██████████| 75/75 [00:16<00:00,  4.50it/s]\n",
      "100%|██████████| 19/19 [00:04<00:00,  4.24it/s]\n",
      "100%|██████████| 51/51 [00:11<00:00,  4.47it/s]\n"
     ]
    },
    {
     "name": "stdout",
     "output_type": "stream",
     "text": [
      "[ Test  6 / 15  ] loss =  0.047758072366317114\n",
      "[ Test  6 / 15  ] accuracy =  0.8741666666666666\n",
      "[ GTest  6 / 15  ] loss =  0.05502359451431977\n",
      "[ GTest  6 / 15  ] accuracy =  0.7719298412925318\n",
      "[ ITest  6 / 15  ] loss =  0.052948352533812616\n",
      "[ ITest  6 / 15  ] accuracy =  0.8387255201152727\n",
      "Starting epoch  7\n"
     ]
    },
    {
     "name": "stderr",
     "output_type": "stream",
     "text": [
      "100%|██████████| 191/191 [03:42<00:00,  1.17s/it]\n"
     ]
    },
    {
     "name": "stdout",
     "output_type": "stream",
     "text": [
      "第 7 个epoch的学习率为： 0.0006545084971874737\n",
      "[ Train  7 / 15  ] loss =  0.042138134251246274\n",
      "[ Train  7 / 15  ] accuracy =  0.8920858493026015\n"
     ]
    },
    {
     "name": "stderr",
     "output_type": "stream",
     "text": [
      "100%|██████████| 75/75 [00:16<00:00,  4.51it/s]\n",
      "100%|██████████| 19/19 [00:04<00:00,  4.29it/s]\n",
      "100%|██████████| 51/51 [00:11<00:00,  4.47it/s]\n"
     ]
    },
    {
     "name": "stdout",
     "output_type": "stream",
     "text": [
      "[ Test  7 / 15  ] loss =  0.0643195205554366\n",
      "[ Test  7 / 15  ] accuracy =  0.7691666666666667\n",
      "[ GTest  7 / 15  ] loss =  0.05424210380174612\n",
      "[ GTest  7 / 15  ] accuracy =  0.770833316602205\n",
      "[ ITest  7 / 15  ] loss =  0.040236600802517404\n",
      "[ ITest  7 / 15  ] accuracy =  0.9068627450980392\n",
      "Starting epoch  8\n"
     ]
    },
    {
     "name": "stderr",
     "output_type": "stream",
     "text": [
      "100%|██████████| 191/191 [03:43<00:00,  1.17s/it]\n"
     ]
    },
    {
     "name": "stdout",
     "output_type": "stream",
     "text": [
      "第 8 个epoch的学习率为： 0.0005522642316338268\n",
      "[ Train  8 / 15  ] loss =  0.039972482453934186\n",
      "[ Train  8 / 15  ] accuracy =  0.9097325989089087\n"
     ]
    },
    {
     "name": "stderr",
     "output_type": "stream",
     "text": [
      "100%|██████████| 75/75 [00:16<00:00,  4.48it/s]\n",
      "100%|██████████| 19/19 [00:04<00:00,  4.21it/s]\n",
      "100%|██████████| 51/51 [00:11<00:00,  4.46it/s]\n"
     ]
    },
    {
     "name": "stdout",
     "output_type": "stream",
     "text": [
      "[ Test  8 / 15  ] loss =  0.0432973192880551\n",
      "[ Test  8 / 15  ] accuracy =  0.8716666666666667\n",
      "[ GTest  8 / 15  ] loss =  0.04969620381138826\n",
      "[ GTest  8 / 15  ] accuracy =  0.777412263970626\n",
      "[ ITest  8 / 15  ] loss =  0.05439888039494262\n",
      "[ ITest  8 / 15  ] accuracy =  0.8384804071164599\n",
      "Starting epoch  9\n"
     ]
    },
    {
     "name": "stderr",
     "output_type": "stream",
     "text": [
      "100%|██████████| 191/191 [03:43<00:00,  1.17s/it]\n"
     ]
    },
    {
     "name": "stdout",
     "output_type": "stream",
     "text": [
      "第 9 个epoch的学习率为： 0.0004477357683661734\n",
      "[ Train  9 / 15  ] loss =  0.03756769573930358\n",
      "[ Train  9 / 15  ] accuracy =  0.9227748691099477\n"
     ]
    },
    {
     "name": "stderr",
     "output_type": "stream",
     "text": [
      "100%|██████████| 75/75 [00:16<00:00,  4.46it/s]\n",
      "100%|██████████| 19/19 [00:04<00:00,  4.18it/s]\n",
      "100%|██████████| 51/51 [00:11<00:00,  4.46it/s]\n"
     ]
    },
    {
     "name": "stdout",
     "output_type": "stream",
     "text": [
      "[ Test  9 / 15  ] loss =  0.04378839612007141\n",
      "[ Test  9 / 15  ] accuracy =  0.8875\n",
      "[ GTest  9 / 15  ] loss =  0.05130893295924915\n",
      "[ GTest  9 / 15  ] accuracy =  0.8146929991872687\n",
      "[ ITest  9 / 15  ] loss =  0.057497327562932875\n",
      "[ ITest  9 / 15  ] accuracy =  0.7987744948443245\n",
      "Starting epoch  10\n"
     ]
    },
    {
     "name": "stderr",
     "output_type": "stream",
     "text": [
      "100%|██████████| 191/191 [03:43<00:00,  1.17s/it]\n"
     ]
    },
    {
     "name": "stdout",
     "output_type": "stream",
     "text": [
      "第 10 个epoch的学习率为： 0.0003454915028125264\n",
      "[ Train  10 / 15  ] loss =  0.035878656870875686\n",
      "[ Train  10 / 15  ] accuracy =  0.9370324898764725\n"
     ]
    },
    {
     "name": "stderr",
     "output_type": "stream",
     "text": [
      "100%|██████████| 75/75 [00:17<00:00,  4.40it/s]\n",
      "100%|██████████| 19/19 [00:04<00:00,  4.23it/s]\n",
      "100%|██████████| 51/51 [00:11<00:00,  4.45it/s]\n"
     ]
    },
    {
     "name": "stdout",
     "output_type": "stream",
     "text": [
      "[ Test  10 / 15  ] loss =  0.042411906520525615\n",
      "[ Test  10 / 15  ] accuracy =  0.9125\n",
      "[ GTest  10 / 15  ] loss =  0.045324928078212236\n",
      "[ GTest  10 / 15  ] accuracy =  0.8322368421052632\n",
      "[ ITest  10 / 15  ] loss =  0.07805392116892572\n",
      "[ ITest  10 / 15  ] accuracy =  0.760784298765893\n",
      "Starting epoch  11\n"
     ]
    },
    {
     "name": "stderr",
     "output_type": "stream",
     "text": [
      "100%|██████████| 191/191 [03:44<00:00,  1.17s/it]\n"
     ]
    },
    {
     "name": "stdout",
     "output_type": "stream",
     "text": [
      "第 11 个epoch的学习率为： 0.0002500000000000001\n",
      "[ Train  11 / 15  ] loss =  0.03200671228906871\n",
      "[ Train  11 / 15  ] accuracy =  0.9538379289716951\n"
     ]
    },
    {
     "name": "stderr",
     "output_type": "stream",
     "text": [
      "100%|██████████| 75/75 [00:16<00:00,  4.45it/s]\n",
      "100%|██████████| 19/19 [00:04<00:00,  4.25it/s]\n",
      "100%|██████████| 51/51 [00:11<00:00,  4.51it/s]\n"
     ]
    },
    {
     "name": "stdout",
     "output_type": "stream",
     "text": [
      "[ Test  11 / 15  ] loss =  0.036568598089118796\n",
      "[ Test  11 / 15  ] accuracy =  0.9175\n",
      "[ GTest  11 / 15  ] loss =  0.03923975377294578\n",
      "[ GTest  11 / 15  ] accuracy =  0.867324527941252\n",
      "[ ITest  11 / 15  ] loss =  0.0664890865777053\n",
      "[ ITest  11 / 15  ] accuracy =  0.8178921867819393\n",
      "Starting epoch  12\n"
     ]
    },
    {
     "name": "stderr",
     "output_type": "stream",
     "text": [
      "100%|██████████| 191/191 [03:42<00:00,  1.16s/it]\n"
     ]
    },
    {
     "name": "stdout",
     "output_type": "stream",
     "text": [
      "第 12 个epoch的学习率为： 0.00016543469682057103\n",
      "[ Train  12 / 15  ] loss =  0.029172059294831066\n",
      "[ Train  12 / 15  ] accuracy =  0.9690538975580825\n"
     ]
    },
    {
     "name": "stderr",
     "output_type": "stream",
     "text": [
      "100%|██████████| 75/75 [00:16<00:00,  4.53it/s]\n",
      "100%|██████████| 19/19 [00:04<00:00,  4.20it/s]\n",
      "100%|██████████| 51/51 [00:11<00:00,  4.51it/s]\n"
     ]
    },
    {
     "name": "stdout",
     "output_type": "stream",
     "text": [
      "[ Test  12 / 15  ] loss =  0.03441351833442847\n",
      "[ Test  12 / 15  ] accuracy =  0.925\n",
      "[ GTest  12 / 15  ] loss =  0.04239578329418835\n",
      "[ GTest  12 / 15  ] accuracy =  0.8662281036376953\n",
      "[ ITest  12 / 15  ] loss =  0.06036374860388391\n",
      "[ ITest  12 / 15  ] accuracy =  0.8458333482929304\n",
      "Starting epoch  13\n"
     ]
    },
    {
     "name": "stderr",
     "output_type": "stream",
     "text": [
      "100%|██████████| 191/191 [03:42<00:00,  1.16s/it]\n"
     ]
    },
    {
     "name": "stdout",
     "output_type": "stream",
     "text": [
      "第 13 个epoch的学习率为： 9.549150281252631e-05\n",
      "[ Train  13 / 15  ] loss =  0.026274093178086256\n",
      "[ Train  13 / 15  ] accuracy =  0.981675392670157\n"
     ]
    },
    {
     "name": "stderr",
     "output_type": "stream",
     "text": [
      "100%|██████████| 75/75 [00:16<00:00,  4.52it/s]\n",
      "100%|██████████| 19/19 [00:04<00:00,  4.25it/s]\n",
      "100%|██████████| 51/51 [00:11<00:00,  4.48it/s]\n"
     ]
    },
    {
     "name": "stdout",
     "output_type": "stream",
     "text": [
      "[ Test  13 / 15  ] loss =  0.03493369959294796\n",
      "[ Test  13 / 15  ] accuracy =  0.9325\n",
      "[ GTest  13 / 15  ] loss =  0.037522392592539915\n",
      "[ GTest  13 / 15  ] accuracy =  0.8859649457429585\n",
      "[ ITest  13 / 15  ] loss =  0.08538287153065789\n",
      "[ ITest  13 / 15  ] accuracy =  0.8110293968051088\n",
      "Starting epoch  14\n"
     ]
    },
    {
     "name": "stderr",
     "output_type": "stream",
     "text": [
      "100%|██████████| 191/191 [03:41<00:00,  1.16s/it]\n"
     ]
    },
    {
     "name": "stdout",
     "output_type": "stream",
     "text": [
      "第 14 个epoch的学习率为： 4.322727117869951e-05\n",
      "[ Train  14 / 15  ] loss =  0.024436207044460076\n",
      "[ Train  14 / 15  ] accuracy =  0.9824701279245746\n"
     ]
    },
    {
     "name": "stderr",
     "output_type": "stream",
     "text": [
      "100%|██████████| 75/75 [00:16<00:00,  4.51it/s]\n",
      "100%|██████████| 19/19 [00:04<00:00,  4.30it/s]\n",
      "100%|██████████| 51/51 [00:11<00:00,  4.52it/s]\n"
     ]
    },
    {
     "name": "stdout",
     "output_type": "stream",
     "text": [
      "[ Test  14 / 15  ] loss =  0.03415466886013746\n",
      "[ Test  14 / 15  ] accuracy =  0.9283333333333333\n",
      "[ GTest  14 / 15  ] loss =  0.03549666658632065\n",
      "[ GTest  14 / 15  ] accuracy =  0.8991228404798006\n",
      "[ ITest  14 / 15  ] loss =  0.0944294910147494\n",
      "[ ITest  14 / 15  ] accuracy =  0.7887254602768842\n",
      "Starting epoch  15\n"
     ]
    },
    {
     "name": "stderr",
     "output_type": "stream",
     "text": [
      "100%|██████████| 191/191 [03:42<00:00,  1.17s/it]\n"
     ]
    },
    {
     "name": "stdout",
     "output_type": "stream",
     "text": [
      "第 15 个epoch的学习率为： 1.0926199633097156e-05\n",
      "[ Train  15 / 15  ] loss =  0.023481396958231926\n",
      "[ Train  15 / 15  ] accuracy =  0.9834283958554892\n"
     ]
    },
    {
     "name": "stderr",
     "output_type": "stream",
     "text": [
      "100%|██████████| 75/75 [00:16<00:00,  4.52it/s]\n",
      "100%|██████████| 19/19 [00:04<00:00,  4.27it/s]\n",
      "100%|██████████| 51/51 [00:11<00:00,  4.50it/s]\n"
     ]
    },
    {
     "name": "stdout",
     "output_type": "stream",
     "text": [
      "[ Test  15 / 15  ] loss =  0.03257125904162725\n",
      "[ Test  15 / 15  ] accuracy =  0.9366666666666666\n",
      "[ GTest  15 / 15  ] loss =  0.03544548996969273\n",
      "[ GTest  15 / 15  ] accuracy =  0.8925438931113795\n",
      "[ ITest  15 / 15  ] loss =  0.08429577784137983\n",
      "[ ITest  15 / 15  ] accuracy =  0.8049019458247166\n"
     ]
    }
   ],
   "source": [
    "model = Conformer_tiny_patch16(in_chans=1, num_classes=2)\n",
    "model = model.to(try_gpu())\n",
    "optimizer = torch.optim.Adam(model.parameters(), lr = lr)\n",
    "# criterion = nn.CrossEntropyLoss()\n",
    "scheduler = torch.optim.lr_scheduler.CosineAnnealingLR(optimizer,T_max=num_epoch)\n",
    "train_losses = []\n",
    "train_accs = []\n",
    "test_losses =[]\n",
    "test_accs = []\n",
    "Gtest_losses = []\n",
    "Gtest_accs = []\n",
    "Itest_losses = []\n",
    "Itest_accs = []\n",
    "for epoch in range(num_epoch):\n",
    "    model.train()\n",
    "    print('Starting epoch ',str(int(epoch+1)))\n",
    "    train_loss = []\n",
    "    train_acc = []\n",
    "    test_loss = []\n",
    "    test_acc = []\n",
    "    Gtest_loss = []\n",
    "    Gtest_acc = []\n",
    "    Itest_loss = []\n",
    "    Itest_acc = []\n",
    "    for inputs,labels in tqdm(train_loader):\n",
    "        inputs = inputs.to(try_gpu())\n",
    "        labels = labels.to(try_gpu())\n",
    "        outputs = model(inputs)\n",
    "        if isinstance(outputs, list):\n",
    "            loss_list = [compute_loss(o, labels, 2) / len(outputs) for o in outputs]\n",
    "            loss = sum(loss_list)\n",
    "        else:\n",
    "            loss = compute_loss(outputs, labels, 2)\n",
    "#         loss = criterion(out, labels)\n",
    "        optimizer.zero_grad()\n",
    "        loss.backward()\n",
    "        optimizer.step()\n",
    "        train_loss.append(loss.item())\n",
    "        if isinstance(outputs,list):\n",
    "            out = sum(outputs)\n",
    "            train_acc.append((out.argmax(dim=-1) == labels).float().mean().cpu())\n",
    "        else:\n",
    "            train_acc.append((outputs.argmax(dim=-1) == labels).float().mean().cpu())\n",
    "    print('第',str(int(epoch+1)),'个epoch的学习率为：',str(optimizer.param_groups[0]['lr']))\n",
    "    scheduler.step()\n",
    "    train_losses.append(np.sum(train_loss) / len(train_loss))\n",
    "    train_accs.append(np.sum(train_acc)/len(train_acc))\n",
    "    print('[ Train ',str(epoch+1),'/',str(num_epoch),' ] loss = ',str(train_losses[epoch]))\n",
    "    print('[ Train ',str(epoch+1),'/',str(num_epoch),' ] accuracy = ',str(train_accs[epoch]))\n",
    "    model.eval()\n",
    "    for inputs, labels in tqdm(test_loader):\n",
    "        inputs = inputs.to(try_gpu())\n",
    "        labels = labels.to(try_gpu())\n",
    "        logits = model(inputs)\n",
    "        if isinstance(logits, list):\n",
    "            loss_list = [compute_loss(o, labels, 2) / len(logits) for o in logits]\n",
    "            loss = sum(loss_list)\n",
    "        else:\n",
    "            loss = compute_loss(logits, labels, 2)\n",
    "        # loss = criterion(logits,labels)\n",
    "        test_loss.append(loss.item())\n",
    "        if isinstance(logits,list):\n",
    "            out = sum(logits)\n",
    "            test_acc.append((out.argmax(dim=-1) == labels).float().mean().cpu())\n",
    "        else:\n",
    "            test_acc.append((logits.argmax(dim=-1) == labels).float().mean().cpu())\n",
    "    test_losses.append(np.sum(test_loss) / len(test_loss))\n",
    "    test_accs.append(np.sum(test_acc)/len(test_acc))\n",
    "    for inputs, labels in tqdm(Gtest_loader):\n",
    "        inputs = inputs.to(try_gpu())\n",
    "        labels = labels.to(try_gpu())\n",
    "        logits = model(inputs)\n",
    "        if isinstance(logits, list):\n",
    "            loss_list = [compute_loss(o, labels, 2) / len(logits) for o in logits]\n",
    "            loss = sum(loss_list)\n",
    "        else:\n",
    "            loss = compute_loss(logits, labels, 2)\n",
    "        # loss = criterion(logits,labels)\n",
    "        Gtest_loss.append(loss.item())\n",
    "        if isinstance(logits,list):\n",
    "            out = sum(logits)\n",
    "            Gtest_acc.append((out.argmax(dim=-1) == labels).float().mean().cpu())\n",
    "        else:\n",
    "            Gtest_acc.append((logits.argmax(dim=-1) == labels).float().mean().cpu())\n",
    "        # Gtest_acc.append((logits.argmax(dim=-1) == labels).float().mean().cpu())\n",
    "    Gtest_losses.append(np.sum(Gtest_loss) / len(Gtest_loss))\n",
    "    Gtest_accs.append(np.sum(Gtest_acc)/len(Gtest_acc))\n",
    "    for inputs, labels in tqdm(Itest_loader):\n",
    "        inputs = inputs.to(try_gpu())\n",
    "        labels = labels.to(try_gpu())\n",
    "        logits = model(inputs)\n",
    "        if isinstance(logits, list):\n",
    "            loss_list = [compute_loss(o, labels, 2) / len(logits) for o in logits]\n",
    "            loss = sum(loss_list)\n",
    "        else:\n",
    "            loss = compute_loss(logits, labels, 2)\n",
    "        # loss = criterion(logits,labels)\n",
    "        Itest_loss.append(loss.item())\n",
    "        if isinstance(logits,list):\n",
    "            out = sum(logits)\n",
    "            Itest_acc.append((out.argmax(dim=-1) == labels).float().mean().cpu())\n",
    "        else:\n",
    "            Itest_acc.append((logits.argmax(dim=-1) == labels).float().mean().cpu())\n",
    "    Itest_losses.append(np.sum(Itest_loss) / len(Itest_loss))\n",
    "    Itest_accs.append(np.sum(Itest_acc)/len(Itest_acc))\n",
    "    print('[ Test ',str(epoch+1),'/',str(num_epoch),' ] loss = ',str(test_losses[epoch]))\n",
    "    print('[ Test ',str(epoch+1),'/',str(num_epoch),' ] accuracy = ',str(test_accs[epoch]))\n",
    "    print('[ GTest ',str(epoch+1),'/',str(num_epoch),' ] loss = ',str(Gtest_losses[epoch]))\n",
    "    print('[ GTest ',str(epoch+1),'/',str(num_epoch),' ] accuracy = ',str(Gtest_accs[epoch]))\n",
    "    print('[ ITest ',str(epoch+1),'/',str(num_epoch),' ] loss = ',str(Itest_losses[epoch]))\n",
    "    print('[ ITest ',str(epoch+1),'/',str(num_epoch),' ] accuracy = ',str(Itest_accs[epoch]))\n",
    "    #保存此次epoch的模型\n",
    "    torch.save(model.state_dict(),'./epoch'+str(epoch+1)+'acc='+str(test_accs[epoch])+'.pth')"
   ]
  },
  {
   "cell_type": "code",
   "execution_count": null,
   "metadata": {
    "colab": {
     "base_uri": "https://localhost:8080/"
    },
    "id": "LGfCP6_jAOGs",
    "outputId": "e7d55778-bb6a-4c40-f027-177543e9e4f7"
   },
   "outputs": [
    {
     "data": {
      "text/plain": [
       "<matplotlib.legend.Legend at 0x7f89877175d0>"
      ]
     },
     "execution_count": 10,
     "metadata": {},
     "output_type": "execute_result"
    },
    {
     "data": {
      "image/png": "[encoded data removed]",
      "text/plain": [
       "<Figure size 432x288 with 1 Axes>"
      ]
     },
     "metadata": {
      "needs_background": "light"
     },
     "output_type": "display_data"
    }
   ],
   "source": [
    "#绘制损失函数图\n",
    "fig = plt.figure()\n",
    "ax = fig.add_axes([0,0,1,1])\n",
    "x = np.arange(1,num_epoch+1)\n",
    "ax.plot(x,train_losses, marker='o' ,markersize =4, mfc='white' ,label='train_loss')\n",
    "ax.plot(x,test_losses, marker='o' ,markersize =4, mfc='white' ,label='test_loss')\n",
    "ax.plot(x,Gtest_losses, marker='o' ,markersize =4, mfc='white' ,label='German_test_loss')\n",
    "ax.plot(x,Itest_losses, marker='o' ,markersize =4, mfc='white' ,label='Italy_test_loss')\n",
    "ax.set_title('loss-num_epoch')\n",
    "ax.set_xlabel('num_epoch')\n",
    "ax.set_ylabel('loss')\n",
    "ax.legend()"
   ]
  },
  {
   "cell_type": "code",
   "execution_count": null,
   "metadata": {
    "colab": {
     "base_uri": "https://localhost:8080/",
     "height": 72
    },
    "id": "rVE7R8NUQbHX",
    "outputId": "9787684e-01f7-464a-9806-6ef299486208"
   },
   "outputs": [
    {
     "data": {
      "text/plain": [
       "<matplotlib.legend.Legend at 0x7f898925dcd0>"
      ]
     },
     "execution_count": 11,
     "metadata": {},
     "output_type": "execute_result"
    },
    {
     "data": {
      "image/png": "[encoded data removed]",
      "text/plain": [
       "<Figure size 432x288 with 1 Axes>"
      ]
     },
     "metadata": {
      "needs_background": "light"
     },
     "output_type": "display_data"
    }
   ],
   "source": [
    "#绘制准确率图\n",
    "fig = plt.figure()\n",
    "ax = fig.add_axes([0,0,1,1])\n",
    "x = np.arange(1,num_epoch+1)\n",
    "ax.plot(x,train_accs, marker='o' ,markersize =4, mfc='white' ,label='train_acc')\n",
    "ax.plot(x,test_accs, marker='o' ,markersize =4, mfc='white' ,label='test_acc')\n",
    "ax.plot(x,Gtest_accs, marker='o' ,markersize =4, mfc='white' ,label='German_test_acc')\n",
    "ax.plot(x,Itest_accs, marker='o' ,markersize =4, mfc='white' ,label='Italy_test_acc')\n",
    "ax.set_title('accuracy-num_epoch')\n",
    "ax.set_xlabel('num_epoch')\n",
    "ax.set_ylabel('accuracy')\n",
    "ax.legend()"
   ]
  },
  {
   "cell_type": "code",
   "execution_count": null,
   "metadata": {
    "id": "lUannv2fQc0f"
   },
   "outputs": [],
   "source": []
  }
 ],
 "metadata": {
  "accelerator": "GPU",
  "colab": {
   "name": "SAR-conformer.ipynb",
   "provenance": []
  },
  "kernelspec": {
   "display_name": "Python 3 (ipykernel)",
   "language": "python",
   "name": "python3"
  },
  "language_info": {
   "codemirror_mode": {
    "name": "ipython",
    "version": 3
   },
   "file_extension": ".py",
   "mimetype": "text/x-python",
   "name": "python",
   "nbconvert_exporter": "python",
   "pygments_lexer": "ipython3",
   "version": "3.7.3"
  }
 },
 "nbformat": 4,
 "nbformat_minor": 1
}
